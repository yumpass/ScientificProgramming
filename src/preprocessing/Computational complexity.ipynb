{
 "cells": [
  {
   "cell_type": "markdown",
   "id": "5049657c",
   "metadata": {},
   "source": [
    "#### 1. **Image Discovery**\n",
    "- `glob(os.path.join(Imgs_route, 'FSS_0632.8nm_00.3mm_*.tiff'))`  \n",
    "  - Complexity: **O(n)**, where `n` is the number of image files in the directory.\n",
    "\n",
    "#### 2. **Main Processing Loop**\n",
    "- The loop `for idx, route in enumerate(imgs):` iterates over **n** images.\n",
    "- For each image:\n",
    "    - **Image Reading** (`cv2.imread`): O(w·h), where w and h are the original width and height of the image.\n",
    "    - **Resize and Adjust** (`cv2.resize`, `cv2.convertScaleAbs`):  \n",
    "        - `cv2.resize` is O(w·h) for the input, but since the output is fixed at 90x90, this is **O(1)** for the result.\n",
    "        - `cv2.convertScaleAbs` is O(1) for 90x90 pixels.\n",
    "    - **Flatten Image**: O(1) (constant size).\n",
    "    - **Feature Extraction**:\n",
    "        - `cv2.minMaxLoc`: O(1) for 90x90.\n",
    "        - Two nested loops of size 3 (i.e., 9 iterations):\n",
    "            - In each block, `np.mean` over 30x30 pixels: O(1) for fixed size.\n",
    "        - So **FeatureExtraction** is **O(1)** per image.\n",
    "    - **Image Saving** (`cv2.imwrite`): O(1) for fixed-size images.\n",
    "    - **List Append**: O(1) per image.\n",
    "- **Thus, the whole loop is O(n)**, with `n` the number of images.\n",
    "\n",
    "#### 3. **DataFrames and Saving**\n",
    "- Creating `pd.DataFrame` from lists: O(n).\n",
    "- Adding columns and saving as CSV: O(n).\n",
    "\n",
    "#### **Total Complexity**\n",
    "- **O(n)** in terms of the number of images processed.\n",
    "- There are no nested loops over `n`, and per-image operations are O(1) due to fixed size (90x90).\n",
    "\n",
    "#### **Conclusion**\n",
    "- The algorithm scales **linearly** with the number of images.\n",
    "- Efficient and well-suited for batch processing of small or moderate-size images."
   ]
  }
 ],
 "metadata": {
  "kernelspec": {
   "display_name": "Python 3",
   "language": "python",
   "name": "python3"
  },
  "language_info": {
   "codemirror_mode": {
    "name": "ipython",
    "version": 3
   },
   "file_extension": ".py",
   "mimetype": "text/x-python",
   "name": "python",
   "nbconvert_exporter": "python",
   "pygments_lexer": "ipython3",
   "version": "3.11.9"
  }
 },
 "nbformat": 4,
 "nbformat_minor": 5
}
