{
 "cells": [
  {
   "cell_type": "markdown",
   "id": "6666cd29",
   "metadata": {},
   "source": [
    "#### 1. **CSV Loading and Printing**\n",
    "- The script loads up to 10 CSV files using `pd.read_csv()`. If each file has `r` rows, the complexity per file is O(r).\n",
    "- Printing only the head (`.head()`) is O(1) since it just shows the first 5 rows.\n",
    "\n",
    "#### 2. **Loading and Plotting Features**\n",
    "- Loads the full features CSV file: O(m), where m is the number of samples (rows).\n",
    "- Displays the first row as a bar plot: O(k), where k is the number of features (constant, typically small).\n",
    "\n",
    "#### 3. **Visualizing KDE and Boxplots**\n",
    "- Lists and sorts all PNG files in directories: O(f), where f is the number of features (plots).\n",
    "- For the first 3 KDE/boxplot images:\n",
    "    - Opens and displays the image. File reading and plotting are both O(1) per image, as only three images are processed for display.\n",
    "\n",
    "#### 4. **Visualizing Grid Plots**\n",
    "- For each grid image (just 2 files: `kde_grid.png`, `box_grid.png`):\n",
    "    - Opens and displays the image: O(1) per grid.\n",
    "\n",
    "#### 5. **Visualizing Processed Images**\n",
    "- Loads and displays the first 90x90 processed TIFF image: O(1), since only one image is shown.\n",
    "- Same for the first 3x3 image.\n",
    "\n",
    "\n",
    "\n",
    "#### **Total Complexity**\n",
    "- For visualization and reporting, the dominant cost is the CSV loading: **O(n + m + f)**, where:\n",
    "    - n = total rows in all CSVs\n",
    "    - m = rows in features CSV\n",
    "    - f = number of image files/plots found in the KDE or boxplot directories\n",
    "\n",
    "- **But:** For each display step, only a few rows/images are actually visualized (constant amount). The script does not process all data, just shows a sample, so most steps are O(1) or O(f) for listing files.\n",
    "\n",
    "\n",
    "\n",
    "#### **Conclusion**\n",
    "- The script's time and memory usage are **dominated by reading the CSV files** (linear in the size of data), but the actual visualization is constant time per file shown.\n",
    "- For practical purposes, the overall complexity is **O(n)**, linear in the number of rows/entries in the loaded tables, and O(f) in the number of image files, but user experience is constant for each view.\n"
   ]
  }
 ],
 "metadata": {
  "kernelspec": {
   "display_name": "Python 3",
   "language": "python",
   "name": "python3"
  },
  "language_info": {
   "name": "python",
   "version": "3.11.9"
  }
 },
 "nbformat": 4,
 "nbformat_minor": 5
}
